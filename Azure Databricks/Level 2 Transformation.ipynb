{
 "cells": [
  {
   "cell_type": "markdown",
   "metadata": {},
   "source": [
    "# Silver To Gold Transformation (Level 2)\n",
    "\n",
    "In this level of transformation the data is usually curated based on business logic. Since this project just focuses on migrating the data no business logic is applied here. Instead modification of columns is taken place, where ***white spaces(\" \")*** in column names are replaced by an ***underscore(\"_\")***."
   ]
  },
  {
   "cell_type": "code",
   "execution_count": null,
   "metadata": {
    "application/vnd.databricks.v1+cell": {
     "cellMetadata": {},
     "inputWidgets": {},
     "nuid": "4abd3dd9-b11a-4995-9a0c-659c5fbd2c7b",
     "showTitle": false,
     "title": ""
    }
   },
   "outputs": [],
   "source": [
    "# Displays the files & folder of SalesLT folder in silver container.\n",
    "dbutils.fs.ls(\"/mnt/silver/SalesLT\")"
   ]
  },
  {
   "cell_type": "code",
   "execution_count": null,
   "metadata": {
    "application/vnd.databricks.v1+cell": {
     "cellMetadata": {},
     "inputWidgets": {},
     "nuid": "7617a616-38d7-42ab-ae4e-ba1abd34992b",
     "showTitle": false,
     "title": ""
    }
   },
   "outputs": [],
   "source": [
    "# Listing the files in gold container which will be empty for now.\n",
    "dbutils.fs.ls(\"/mnt/gold\")"
   ]
  },
  {
   "cell_type": "code",
   "execution_count": null,
   "metadata": {
    "application/vnd.databricks.v1+cell": {
     "cellMetadata": {},
     "inputWidgets": {},
     "nuid": "c3333315-c868-4929-a94b-f8f0e2f0e20a",
     "showTitle": false,
     "title": ""
    }
   },
   "outputs": [],
   "source": [
    "table_names = []\n",
    "\n",
    "for i in dbutils.fs.ls(\"/mnt/silver/SalesLT\"):\n",
    "    table_names.append(i.name.split('/')[0])"
   ]
  },
  {
   "cell_type": "markdown",
   "metadata": {},
   "source": [
    "\n",
    "In order to remove whitespaces in column names for all the tables, We iterate through each table one by one *load* it as dataframe and *replace* column names by iterating over the columns of each dataframe.\n",
    "\n",
    "\n",
    "While iterating through the columns of each dataframe(table), A variable called ***new_column*** is created which stores the new column name by removing white spaces and replacing them with an underscore. \n",
    "\n",
    "Then ***spark.withCoulumnRenamed()*** funtion is used to replace the ***old_column*** name (containing white spaces) with ***new_column*** name (replaced with underscores).\n",
    "\n",
    "Once all the columns names of a dataframe are transformed, the df is stored onto gold container in the corresponding folder. This process is repeated until the names of every table column are changed."
   ]
  },
  {
   "cell_type": "code",
   "execution_count": null,
   "metadata": {
    "application/vnd.databricks.v1+cell": {
     "cellMetadata": {},
     "inputWidgets": {},
     "nuid": "3099877a-7de9-4d8e-8377-f49f7e02a9e1",
     "showTitle": false,
     "title": ""
    }
   },
   "outputs": [],
   "source": [
    "from pyspark.sql.functions import col, regexp_replace\n",
    "\n",
    "for table in table_names: # Iterating over the tables.\n",
    "    table_path = \"/mnt/silver/SalesLT/\" + table\n",
    "    df = spark.read.format(\"delta\").load(table_path)\n",
    "    columns = df.columns\n",
    "\n",
    "    for old_column in columns: # Iterating over the columns of a table.\n",
    "        new_column = \"\".join([\"_\" + char if char.isupper() and not old_column[i-1].isupper() else char for i, char in enumerate(old_column)]).lstrip(\"_\")\n",
    "        df = df.withColumnRenamed(old_column, new_column)\n",
    "    \n",
    "    output_path = \"/mnt/gold/SalesLT/\" + table + \"/\" # Output path to store the dataframe in gold container.\n",
    "    df.write.format(\"delta\").mode(\"overwrite\").save(output_path) # Loading the data onto gold container."
   ]
  }
 ],
 "metadata": {
  "application/vnd.databricks.v1+notebook": {
   "dashboards": [],
   "environmentMetadata": null,
   "language": "python",
   "notebookMetadata": {
    "pythonIndentUnit": 4
   },
   "notebookName": "Level 2 Transformation",
   "widgets": {}
  },
  "language_info": {
   "name": "python"
  }
 },
 "nbformat": 4,
 "nbformat_minor": 0
}
