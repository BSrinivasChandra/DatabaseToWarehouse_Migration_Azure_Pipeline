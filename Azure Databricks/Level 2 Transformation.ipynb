{
 "cells": [
  {
   "cell_type": "markdown",
   "metadata": {},
   "source": [
    "# Silver To Gold Transformation (Level 2)\n",
    "\n",
    "In this level of transformation data is usually curated based on business logic. Since this project just focuses on migrating the data no business logic is applied here. Instead modification of columns is taken place, where ***white spaces(\" \")*** in column names are replaced by an ***underscore(\"_\")***."
   ]
  },
  {
   "cell_type": "code",
   "execution_count": null,
   "metadata": {
    "application/vnd.databricks.v1+cell": {
     "cellMetadata": {},
     "inputWidgets": {},
     "nuid": "4abd3dd9-b11a-4995-9a0c-659c5fbd2c7b",
     "showTitle": false,
     "title": ""
    }
   },
   "outputs": [],
   "source": [
    "dbutils.fs.ls(\"/mnt/silver/SalesLT\")"
   ]
  },
  {
   "cell_type": "code",
   "execution_count": null,
   "metadata": {
    "application/vnd.databricks.v1+cell": {
     "cellMetadata": {},
     "inputWidgets": {},
     "nuid": "7617a616-38d7-42ab-ae4e-ba1abd34992b",
     "showTitle": false,
     "title": ""
    }
   },
   "outputs": [],
   "source": [
    "dbutils.fs.ls(\"/mnt/gold\")"
   ]
  },
  {
   "cell_type": "code",
   "execution_count": null,
   "metadata": {
    "application/vnd.databricks.v1+cell": {
     "cellMetadata": {},
     "inputWidgets": {},
     "nuid": "c3333315-c868-4929-a94b-f8f0e2f0e20a",
     "showTitle": false,
     "title": ""
    }
   },
   "outputs": [],
   "source": [
    "table_names = []\n",
    "\n",
    "for i in dbutils.fs.ls(\"/mnt/silver/SalesLT\"):\n",
    "    table_names.append(i.name.split('/')[0])"
   ]
  },
  {
   "cell_type": "markdown",
   "metadata": {},
   "source": []
  },
  {
   "cell_type": "code",
   "execution_count": null,
   "metadata": {
    "application/vnd.databricks.v1+cell": {
     "cellMetadata": {},
     "inputWidgets": {},
     "nuid": "3099877a-7de9-4d8e-8377-f49f7e02a9e1",
     "showTitle": false,
     "title": ""
    }
   },
   "outputs": [],
   "source": [
    "from pyspark.sql.functions import col, regexp_replace\n",
    "\n",
    "for table in table_names:\n",
    "    table_path = \"/mnt/silver/SalesLT/\" + table\n",
    "    df = spark.read.format(\"delta\").load(table_path)\n",
    "    columns = df.columns\n",
    "\n",
    "    for old_column in columns:\n",
    "        new_column = \"\".join([\"_\" + char if char.isupper() and not old_column[i-1].isupper() else char for i, char in enumerate(old_column)]).lstrip(\"_\")\n",
    "        df = df.withColumnRenamed(old_column, new_column)\n",
    "    \n",
    "    output_path = \"/mnt/gold/SalesLT/\" + table + \"/\"\n",
    "    df.write.format(\"delta\").mode(\"overwrite\").save(output_path)"
   ]
  }
 ],
 "metadata": {
  "application/vnd.databricks.v1+notebook": {
   "dashboards": [],
   "environmentMetadata": null,
   "language": "python",
   "notebookMetadata": {
    "pythonIndentUnit": 4
   },
   "notebookName": "Level 2 Transformation",
   "widgets": {}
  },
  "language_info": {
   "name": "python"
  }
 },
 "nbformat": 4,
 "nbformat_minor": 0
}
